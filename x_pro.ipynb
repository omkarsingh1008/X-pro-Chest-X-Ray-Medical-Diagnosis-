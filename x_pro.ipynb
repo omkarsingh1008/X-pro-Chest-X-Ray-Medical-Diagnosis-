{
 "cells": [
  {
   "cell_type": "markdown",
   "metadata": {
    "id": "qiBXbbwpUTSx"
   },
   "source": [
    "# Chest X-Ray Medical Diagnosis with Deep Learning"
   ]
  },
  {
   "cell_type": "code",
   "execution_count": 60,
   "metadata": {
    "colab": {
     "base_uri": "https://localhost:8080/"
    },
    "id": "vwZtLTcsUk1I",
    "outputId": "bf1d52cc-fa4b-4da7-ae9d-bc77c47ad7ff"
   },
   "outputs": [
    {
     "name": "stdout",
     "output_type": "stream",
     "text": [
      "Drive already mounted at /content/drive; to attempt to forcibly remount, call drive.mount(\"/content/drive\", force_remount=True).\n"
     ]
    }
   ],
   "source": [
    "from google.colab import drive\n",
    "drive.mount('/content/drive')"
   ]
  },
  {
   "cell_type": "code",
   "execution_count": 61,
   "metadata": {
    "colab": {
     "base_uri": "https://localhost:8080/",
     "height": 35
    },
    "id": "f3Zn7DmVUxL8",
    "outputId": "cd7369a1-f71b-4c8d-f447-d4a079509afa"
   },
   "outputs": [
    {
     "data": {
      "application/vnd.google.colaboratory.intrinsic+json": {
       "type": "string"
      },
      "text/plain": [
       "'/content'"
      ]
     },
     "execution_count": 61,
     "metadata": {
      "tags": []
     },
     "output_type": "execute_result"
    }
   ],
   "source": [
    "pwd"
   ]
  },
  {
   "cell_type": "code",
   "execution_count": 1,
   "metadata": {
    "id": "Je3yV0Wnn5x8",
    "scrolled": true
   },
   "outputs": [],
   "source": [
    "import numpy as np\n",
    "import pandas as pd\n",
    "import seaborn as sns\n",
    "import matplotlib.pyplot as plt\n",
    "\n",
    "from tensorflow.keras.preprocessing.image import ImageDataGenerator\n",
    "from tensorflow.keras.applications.densenet import DenseNet121\n",
    "from tensorflow.keras.layers import Dense, GlobalAveragePooling2D\n",
    "from tensorflow.keras.models import Model\n",
    "from tensorflow.keras import backend as K\n",
    "\n",
    "from tensorflow.keras.models import load_model\n",
    "\n",
    "import util"
   ]
  },
  {
   "cell_type": "code",
   "execution_count": 26,
   "metadata": {
    "id": "ALCEKnTOYArg"
   },
   "outputs": [],
   "source": [
    "import tensorflow as tf"
   ]
  },
  {
   "cell_type": "code",
   "execution_count": 27,
   "metadata": {
    "colab": {
     "base_uri": "https://localhost:8080/",
     "height": 35
    },
    "id": "DFDO2sSZYFps",
    "outputId": "b8f948a9-0ed2-467e-c3af-f81741bc2ee2"
   },
   "outputs": [
    {
     "data": {
      "text/plain": [
       "'2.4.1'"
      ]
     },
     "execution_count": 27,
     "metadata": {},
     "output_type": "execute_result"
    }
   ],
   "source": [
    "tf.__version__"
   ]
  },
  {
   "cell_type": "code",
   "execution_count": 28,
   "metadata": {
    "id": "EjDOBixeU0zc"
   },
   "outputs": [],
   "source": [
    "path='/content/drive/MyDrive/'"
   ]
  },
  {
   "cell_type": "code",
   "execution_count": 2,
   "metadata": {
    "colab": {
     "base_uri": "https://localhost:8080/",
     "height": 224
    },
    "id": "5JRSHB7i0t_6",
    "outputId": "71f635dd-e231-4bde-cb10-4859722b5b83"
   },
   "outputs": [
    {
     "data": {
      "text/html": [
       "<div>\n",
       "<style scoped>\n",
       "    .dataframe tbody tr th:only-of-type {\n",
       "        vertical-align: middle;\n",
       "    }\n",
       "\n",
       "    .dataframe tbody tr th {\n",
       "        vertical-align: top;\n",
       "    }\n",
       "\n",
       "    .dataframe thead th {\n",
       "        text-align: right;\n",
       "    }\n",
       "</style>\n",
       "<table border=\"1\" class=\"dataframe\">\n",
       "  <thead>\n",
       "    <tr style=\"text-align: right;\">\n",
       "      <th></th>\n",
       "      <th>Image</th>\n",
       "      <th>Atelectasis</th>\n",
       "      <th>Cardiomegaly</th>\n",
       "      <th>Consolidation</th>\n",
       "      <th>Edema</th>\n",
       "      <th>Effusion</th>\n",
       "      <th>Emphysema</th>\n",
       "      <th>Fibrosis</th>\n",
       "      <th>Hernia</th>\n",
       "      <th>Infiltration</th>\n",
       "      <th>Mass</th>\n",
       "      <th>Nodule</th>\n",
       "      <th>PatientId</th>\n",
       "      <th>Pleural_Thickening</th>\n",
       "      <th>Pneumonia</th>\n",
       "      <th>Pneumothorax</th>\n",
       "    </tr>\n",
       "  </thead>\n",
       "  <tbody>\n",
       "    <tr>\n",
       "      <th>0</th>\n",
       "      <td>00008270_015.png</td>\n",
       "      <td>0</td>\n",
       "      <td>0</td>\n",
       "      <td>0</td>\n",
       "      <td>0</td>\n",
       "      <td>0</td>\n",
       "      <td>0</td>\n",
       "      <td>0</td>\n",
       "      <td>0</td>\n",
       "      <td>0</td>\n",
       "      <td>0</td>\n",
       "      <td>0</td>\n",
       "      <td>8270</td>\n",
       "      <td>0</td>\n",
       "      <td>0</td>\n",
       "      <td>0</td>\n",
       "    </tr>\n",
       "    <tr>\n",
       "      <th>1</th>\n",
       "      <td>00029855_001.png</td>\n",
       "      <td>1</td>\n",
       "      <td>0</td>\n",
       "      <td>0</td>\n",
       "      <td>0</td>\n",
       "      <td>1</td>\n",
       "      <td>0</td>\n",
       "      <td>0</td>\n",
       "      <td>0</td>\n",
       "      <td>1</td>\n",
       "      <td>0</td>\n",
       "      <td>0</td>\n",
       "      <td>29855</td>\n",
       "      <td>0</td>\n",
       "      <td>0</td>\n",
       "      <td>0</td>\n",
       "    </tr>\n",
       "    <tr>\n",
       "      <th>2</th>\n",
       "      <td>00001297_000.png</td>\n",
       "      <td>0</td>\n",
       "      <td>0</td>\n",
       "      <td>0</td>\n",
       "      <td>0</td>\n",
       "      <td>0</td>\n",
       "      <td>0</td>\n",
       "      <td>0</td>\n",
       "      <td>0</td>\n",
       "      <td>0</td>\n",
       "      <td>0</td>\n",
       "      <td>0</td>\n",
       "      <td>1297</td>\n",
       "      <td>1</td>\n",
       "      <td>0</td>\n",
       "      <td>0</td>\n",
       "    </tr>\n",
       "    <tr>\n",
       "      <th>3</th>\n",
       "      <td>00012359_002.png</td>\n",
       "      <td>0</td>\n",
       "      <td>0</td>\n",
       "      <td>0</td>\n",
       "      <td>0</td>\n",
       "      <td>0</td>\n",
       "      <td>0</td>\n",
       "      <td>0</td>\n",
       "      <td>0</td>\n",
       "      <td>0</td>\n",
       "      <td>0</td>\n",
       "      <td>0</td>\n",
       "      <td>12359</td>\n",
       "      <td>0</td>\n",
       "      <td>0</td>\n",
       "      <td>0</td>\n",
       "    </tr>\n",
       "    <tr>\n",
       "      <th>4</th>\n",
       "      <td>00017951_001.png</td>\n",
       "      <td>0</td>\n",
       "      <td>0</td>\n",
       "      <td>0</td>\n",
       "      <td>0</td>\n",
       "      <td>0</td>\n",
       "      <td>0</td>\n",
       "      <td>0</td>\n",
       "      <td>0</td>\n",
       "      <td>1</td>\n",
       "      <td>0</td>\n",
       "      <td>0</td>\n",
       "      <td>17951</td>\n",
       "      <td>0</td>\n",
       "      <td>0</td>\n",
       "      <td>0</td>\n",
       "    </tr>\n",
       "  </tbody>\n",
       "</table>\n",
       "</div>"
      ],
      "text/plain": [
       "              Image  Atelectasis  Cardiomegaly  Consolidation  Edema  \\\n",
       "0  00008270_015.png            0             0              0      0   \n",
       "1  00029855_001.png            1             0              0      0   \n",
       "2  00001297_000.png            0             0              0      0   \n",
       "3  00012359_002.png            0             0              0      0   \n",
       "4  00017951_001.png            0             0              0      0   \n",
       "\n",
       "   Effusion  Emphysema  Fibrosis  Hernia  Infiltration  Mass  Nodule  \\\n",
       "0         0          0         0       0             0     0       0   \n",
       "1         1          0         0       0             1     0       0   \n",
       "2         0          0         0       0             0     0       0   \n",
       "3         0          0         0       0             0     0       0   \n",
       "4         0          0         0       0             1     0       0   \n",
       "\n",
       "   PatientId  Pleural_Thickening  Pneumonia  Pneumothorax  \n",
       "0       8270                   0          0             0  \n",
       "1      29855                   0          0             0  \n",
       "2       1297                   1          0             0  \n",
       "3      12359                   0          0             0  \n",
       "4      17951                   0          0             0  "
      ]
     },
     "execution_count": 2,
     "metadata": {},
     "output_type": "execute_result"
    }
   ],
   "source": [
    "train_df = pd.read_csv(\"nih/train-small.csv\")\n",
    "valid_df = pd.read_csv(\"nih/valid-small.csv\")\n",
    "\n",
    "test_df = pd.read_csv(\"nih/test.csv\")\n",
    "\n",
    "train_df.head()"
   ]
  },
  {
   "cell_type": "code",
   "execution_count": 3,
   "metadata": {},
   "outputs": [
    {
     "data": {
      "text/html": [
       "<div>\n",
       "<style scoped>\n",
       "    .dataframe tbody tr th:only-of-type {\n",
       "        vertical-align: middle;\n",
       "    }\n",
       "\n",
       "    .dataframe tbody tr th {\n",
       "        vertical-align: top;\n",
       "    }\n",
       "\n",
       "    .dataframe thead th {\n",
       "        text-align: right;\n",
       "    }\n",
       "</style>\n",
       "<table border=\"1\" class=\"dataframe\">\n",
       "  <thead>\n",
       "    <tr style=\"text-align: right;\">\n",
       "      <th></th>\n",
       "      <th>Image</th>\n",
       "      <th>PatientId</th>\n",
       "      <th>Cardiomegaly</th>\n",
       "      <th>Emphysema</th>\n",
       "      <th>Effusion</th>\n",
       "      <th>Hernia</th>\n",
       "      <th>Infiltration</th>\n",
       "      <th>Mass</th>\n",
       "      <th>Nodule</th>\n",
       "      <th>Atelectasis</th>\n",
       "      <th>Pneumothorax</th>\n",
       "      <th>Pleural_Thickening</th>\n",
       "      <th>Pneumonia</th>\n",
       "      <th>Fibrosis</th>\n",
       "      <th>Edema</th>\n",
       "      <th>Consolidation</th>\n",
       "    </tr>\n",
       "  </thead>\n",
       "  <tbody>\n",
       "    <tr>\n",
       "      <th>0</th>\n",
       "      <td>00021463_005.png</td>\n",
       "      <td>21463</td>\n",
       "      <td>0</td>\n",
       "      <td>0</td>\n",
       "      <td>1</td>\n",
       "      <td>1</td>\n",
       "      <td>1</td>\n",
       "      <td>0</td>\n",
       "      <td>0</td>\n",
       "      <td>1</td>\n",
       "      <td>0</td>\n",
       "      <td>0</td>\n",
       "      <td>0</td>\n",
       "      <td>0</td>\n",
       "      <td>1</td>\n",
       "      <td>0</td>\n",
       "    </tr>\n",
       "    <tr>\n",
       "      <th>1</th>\n",
       "      <td>00019733_002.png</td>\n",
       "      <td>19733</td>\n",
       "      <td>0</td>\n",
       "      <td>0</td>\n",
       "      <td>0</td>\n",
       "      <td>1</td>\n",
       "      <td>0</td>\n",
       "      <td>0</td>\n",
       "      <td>0</td>\n",
       "      <td>1</td>\n",
       "      <td>0</td>\n",
       "      <td>0</td>\n",
       "      <td>0</td>\n",
       "      <td>0</td>\n",
       "      <td>0</td>\n",
       "      <td>0</td>\n",
       "    </tr>\n",
       "    <tr>\n",
       "      <th>2</th>\n",
       "      <td>00021463_001.png</td>\n",
       "      <td>21463</td>\n",
       "      <td>0</td>\n",
       "      <td>0</td>\n",
       "      <td>0</td>\n",
       "      <td>1</td>\n",
       "      <td>0</td>\n",
       "      <td>0</td>\n",
       "      <td>0</td>\n",
       "      <td>0</td>\n",
       "      <td>0</td>\n",
       "      <td>0</td>\n",
       "      <td>0</td>\n",
       "      <td>0</td>\n",
       "      <td>0</td>\n",
       "      <td>0</td>\n",
       "    </tr>\n",
       "    <tr>\n",
       "      <th>3</th>\n",
       "      <td>00017136_020.png</td>\n",
       "      <td>17136</td>\n",
       "      <td>0</td>\n",
       "      <td>0</td>\n",
       "      <td>0</td>\n",
       "      <td>1</td>\n",
       "      <td>0</td>\n",
       "      <td>0</td>\n",
       "      <td>0</td>\n",
       "      <td>0</td>\n",
       "      <td>0</td>\n",
       "      <td>0</td>\n",
       "      <td>0</td>\n",
       "      <td>0</td>\n",
       "      <td>0</td>\n",
       "      <td>0</td>\n",
       "    </tr>\n",
       "    <tr>\n",
       "      <th>4</th>\n",
       "      <td>00027477_000.png</td>\n",
       "      <td>27477</td>\n",
       "      <td>0</td>\n",
       "      <td>0</td>\n",
       "      <td>0</td>\n",
       "      <td>1</td>\n",
       "      <td>1</td>\n",
       "      <td>0</td>\n",
       "      <td>0</td>\n",
       "      <td>0</td>\n",
       "      <td>0</td>\n",
       "      <td>0</td>\n",
       "      <td>0</td>\n",
       "      <td>0</td>\n",
       "      <td>0</td>\n",
       "      <td>0</td>\n",
       "    </tr>\n",
       "    <tr>\n",
       "      <th>...</th>\n",
       "      <td>...</td>\n",
       "      <td>...</td>\n",
       "      <td>...</td>\n",
       "      <td>...</td>\n",
       "      <td>...</td>\n",
       "      <td>...</td>\n",
       "      <td>...</td>\n",
       "      <td>...</td>\n",
       "      <td>...</td>\n",
       "      <td>...</td>\n",
       "      <td>...</td>\n",
       "      <td>...</td>\n",
       "      <td>...</td>\n",
       "      <td>...</td>\n",
       "      <td>...</td>\n",
       "      <td>...</td>\n",
       "    </tr>\n",
       "    <tr>\n",
       "      <th>415</th>\n",
       "      <td>00010497_000.png</td>\n",
       "      <td>10497</td>\n",
       "      <td>0</td>\n",
       "      <td>0</td>\n",
       "      <td>0</td>\n",
       "      <td>0</td>\n",
       "      <td>0</td>\n",
       "      <td>1</td>\n",
       "      <td>0</td>\n",
       "      <td>0</td>\n",
       "      <td>0</td>\n",
       "      <td>0</td>\n",
       "      <td>0</td>\n",
       "      <td>0</td>\n",
       "      <td>0</td>\n",
       "      <td>0</td>\n",
       "    </tr>\n",
       "    <tr>\n",
       "      <th>416</th>\n",
       "      <td>00017262_001.png</td>\n",
       "      <td>17262</td>\n",
       "      <td>0</td>\n",
       "      <td>0</td>\n",
       "      <td>0</td>\n",
       "      <td>0</td>\n",
       "      <td>0</td>\n",
       "      <td>1</td>\n",
       "      <td>0</td>\n",
       "      <td>0</td>\n",
       "      <td>0</td>\n",
       "      <td>0</td>\n",
       "      <td>0</td>\n",
       "      <td>0</td>\n",
       "      <td>0</td>\n",
       "      <td>0</td>\n",
       "    </tr>\n",
       "    <tr>\n",
       "      <th>417</th>\n",
       "      <td>00021653_000.png</td>\n",
       "      <td>21653</td>\n",
       "      <td>0</td>\n",
       "      <td>0</td>\n",
       "      <td>0</td>\n",
       "      <td>0</td>\n",
       "      <td>0</td>\n",
       "      <td>1</td>\n",
       "      <td>0</td>\n",
       "      <td>0</td>\n",
       "      <td>0</td>\n",
       "      <td>1</td>\n",
       "      <td>0</td>\n",
       "      <td>0</td>\n",
       "      <td>0</td>\n",
       "      <td>0</td>\n",
       "    </tr>\n",
       "    <tr>\n",
       "      <th>418</th>\n",
       "      <td>00017243_001.png</td>\n",
       "      <td>17243</td>\n",
       "      <td>0</td>\n",
       "      <td>0</td>\n",
       "      <td>0</td>\n",
       "      <td>0</td>\n",
       "      <td>0</td>\n",
       "      <td>1</td>\n",
       "      <td>0</td>\n",
       "      <td>0</td>\n",
       "      <td>1</td>\n",
       "      <td>1</td>\n",
       "      <td>0</td>\n",
       "      <td>0</td>\n",
       "      <td>0</td>\n",
       "      <td>0</td>\n",
       "    </tr>\n",
       "    <tr>\n",
       "      <th>419</th>\n",
       "      <td>00016142_013.png</td>\n",
       "      <td>16142</td>\n",
       "      <td>0</td>\n",
       "      <td>0</td>\n",
       "      <td>0</td>\n",
       "      <td>0</td>\n",
       "      <td>1</td>\n",
       "      <td>1</td>\n",
       "      <td>0</td>\n",
       "      <td>1</td>\n",
       "      <td>0</td>\n",
       "      <td>1</td>\n",
       "      <td>0</td>\n",
       "      <td>0</td>\n",
       "      <td>0</td>\n",
       "      <td>0</td>\n",
       "    </tr>\n",
       "  </tbody>\n",
       "</table>\n",
       "<p>420 rows × 16 columns</p>\n",
       "</div>"
      ],
      "text/plain": [
       "                Image  PatientId  Cardiomegaly  Emphysema  Effusion  Hernia  \\\n",
       "0    00021463_005.png      21463             0          0         1       1   \n",
       "1    00019733_002.png      19733             0          0         0       1   \n",
       "2    00021463_001.png      21463             0          0         0       1   \n",
       "3    00017136_020.png      17136             0          0         0       1   \n",
       "4    00027477_000.png      27477             0          0         0       1   \n",
       "..                ...        ...           ...        ...       ...     ...   \n",
       "415  00010497_000.png      10497             0          0         0       0   \n",
       "416  00017262_001.png      17262             0          0         0       0   \n",
       "417  00021653_000.png      21653             0          0         0       0   \n",
       "418  00017243_001.png      17243             0          0         0       0   \n",
       "419  00016142_013.png      16142             0          0         0       0   \n",
       "\n",
       "     Infiltration  Mass  Nodule  Atelectasis  Pneumothorax  \\\n",
       "0               1     0       0            1             0   \n",
       "1               0     0       0            1             0   \n",
       "2               0     0       0            0             0   \n",
       "3               0     0       0            0             0   \n",
       "4               1     0       0            0             0   \n",
       "..            ...   ...     ...          ...           ...   \n",
       "415             0     1       0            0             0   \n",
       "416             0     1       0            0             0   \n",
       "417             0     1       0            0             0   \n",
       "418             0     1       0            0             1   \n",
       "419             1     1       0            1             0   \n",
       "\n",
       "     Pleural_Thickening  Pneumonia  Fibrosis  Edema  Consolidation  \n",
       "0                     0          0         0      1              0  \n",
       "1                     0          0         0      0              0  \n",
       "2                     0          0         0      0              0  \n",
       "3                     0          0         0      0              0  \n",
       "4                     0          0         0      0              0  \n",
       "..                  ...        ...       ...    ...            ...  \n",
       "415                   0          0         0      0              0  \n",
       "416                   0          0         0      0              0  \n",
       "417                   1          0         0      0              0  \n",
       "418                   1          0         0      0              0  \n",
       "419                   1          0         0      0              0  \n",
       "\n",
       "[420 rows x 16 columns]"
      ]
     },
     "execution_count": 3,
     "metadata": {},
     "output_type": "execute_result"
    }
   ],
   "source": [
    "test_df"
   ]
  },
  {
   "cell_type": "code",
   "execution_count": 30,
   "metadata": {
    "colab": {
     "base_uri": "https://localhost:8080/"
    },
    "id": "5WqrgxzCg_Ju",
    "outputId": "ea31c384-a583-4fd4-aa20-7b340a1b7b37"
   },
   "outputs": [
    {
     "data": {
      "text/plain": [
       "Image                 00008270_015.png\n",
       "Atelectasis                          0\n",
       "Cardiomegaly                         0\n",
       "Consolidation                        0\n",
       "Edema                                0\n",
       "Effusion                             0\n",
       "Emphysema                            0\n",
       "Fibrosis                             0\n",
       "Hernia                               0\n",
       "Infiltration                         0\n",
       "Mass                                 0\n",
       "Nodule                               0\n",
       "PatientId                         8270\n",
       "Pleural_Thickening                   0\n",
       "Pneumonia                            0\n",
       "Pneumothorax                         0\n",
       "Name: 0, dtype: object"
      ]
     },
     "execution_count": 30,
     "metadata": {},
     "output_type": "execute_result"
    }
   ],
   "source": [
    "train_df.iloc[0,:]"
   ]
  },
  {
   "cell_type": "code",
   "execution_count": 31,
   "metadata": {
    "colab": {
     "base_uri": "https://localhost:8080/"
    },
    "id": "P_CSeAnVgl5q",
    "outputId": "a45dc879-922e-46b6-f808-be281d5507f2"
   },
   "outputs": [
    {
     "data": {
      "text/plain": [
       "Image                 00021463_005.png\n",
       "PatientId                        21463\n",
       "Cardiomegaly                         0\n",
       "Emphysema                            0\n",
       "Effusion                             1\n",
       "Hernia                               1\n",
       "Infiltration                         1\n",
       "Mass                                 0\n",
       "Nodule                               0\n",
       "Atelectasis                          1\n",
       "Pneumothorax                         0\n",
       "Pleural_Thickening                   0\n",
       "Pneumonia                            0\n",
       "Fibrosis                             0\n",
       "Edema                                1\n",
       "Consolidation                        0\n",
       "Name: 0, dtype: object"
      ]
     },
     "execution_count": 31,
     "metadata": {},
     "output_type": "execute_result"
    }
   ],
   "source": [
    "test_df.iloc[0,:]"
   ]
  },
  {
   "cell_type": "code",
   "execution_count": 5,
   "metadata": {
    "id": "mrDoMlsun5yE"
   },
   "outputs": [],
   "source": [
    "labels = ['Cardiomegaly', \n",
    "          'Emphysema', \n",
    "          'Effusion', \n",
    "          'Hernia', \n",
    "          'Infiltration', \n",
    "          'Mass', \n",
    "          'Nodule', \n",
    "          'Atelectasis',\n",
    "          'Pneumothorax',\n",
    "          'Pleural_Thickening', \n",
    "          'Pneumonia', \n",
    "          'Fibrosis', \n",
    "          'Edema', \n",
    "          'Consolidation']"
   ]
  },
  {
   "cell_type": "markdown",
   "metadata": {
    "id": "iKwFwpHLn5yG"
   },
   "source": [
    "<a name='2-1'></a>\n",
    "### 2.1 Preventing Data Leakage\n",
    "It is worth noting that our dataset contains multiple images for each patient. This could be the case, for example, when a patient has taken multiple X-ray images at different times during their hospital visits. In our data splitting, we have ensured that the split is done on the patient level so that there is no data \"leakage\" between the train, validation, and test datasets."
   ]
  },
  {
   "cell_type": "code",
   "execution_count": 33,
   "metadata": {
    "id": "Jz6dwTSrUcKc"
   },
   "outputs": [],
   "source": [
    "\n",
    "def check_for_leakage(df1, df2, patient_col):\n",
    "    \"\"\"\n",
    "    Return True if there any patients are in both df1 and df2.\n",
    "\n",
    "    Args:\n",
    "        df1 : dataframe describing first dataset\n",
    "        df2 (: dataframe describing second dataset\n",
    "        patient_col : string name of column with patient IDs\n",
    "    \n",
    "    Returns:\n",
    "        leakage (bool): True if there is leakage, otherwise False\n",
    "    \"\"\"\n",
    "\n",
    "    \n",
    "    \n",
    "    df1_patients_unique = set(df1[patient_col].values)\n",
    "    df2_patients_unique = set(df2[patient_col].values)\n",
    "    \n",
    "    patients_in_both_groups = df1_patients_unique.intersection(df2_patients_unique)\n",
    "\n",
    "    \n",
    "    leakage = len(patients_in_both_groups) > 0 \n",
    "    \n",
    "   \n",
    "    \n",
    "    return leakage"
   ]
  },
  {
   "cell_type": "code",
   "execution_count": 34,
   "metadata": {
    "colab": {
     "base_uri": "https://localhost:8080/"
    },
    "id": "AMF3Wd3yW-RS",
    "outputId": "804bf333-f4d1-4cf8-defb-8349fa94f54f"
   },
   "outputs": [
    {
     "name": "stdout",
     "output_type": "stream",
     "text": [
      "leakage between train and test: False\n",
      "leakage between valid and test: False\n"
     ]
    }
   ],
   "source": [
    "print(\"leakage between train and test: {}\".format(check_for_leakage(train_df, test_df, 'PatientId')))\n",
    "print(\"leakage between valid and test: {}\".format(check_for_leakage(valid_df, test_df, 'PatientId')))"
   ]
  },
  {
   "cell_type": "markdown",
   "metadata": {
    "id": "zRUvYHpYXhlQ"
   },
   "source": [
    "If we get `False` for both, then we're ready to start preparing the datasets for training. Remember to always check for data leakage!"
   ]
  },
  {
   "cell_type": "code",
   "execution_count": 7,
   "metadata": {
    "id": "nAgVGOAju8pX"
   },
   "outputs": [],
   "source": [
    "def get_train_generator(df, image_dir, x_col, y_cols, shuffle=True, batch_size=8, seed=1, target_w = 320, target_h = 320):\n",
    "    \"\"\"\n",
    "    Return generator for training set, normalizing using batch\n",
    "    statistics.\n",
    "\n",
    "    Args:\n",
    "      train_df : dataframe specifying training data.\n",
    "      image_dir : directory where image files are held.\n",
    "      x_col : name of column in df that holds filenames.\n",
    "      y_cols : list of strings that hold y labels for images.\n",
    "      sample_size : size of sample to use for normalization statistics.\n",
    "      batch_size : images per batch to be fed into model during training.\n",
    "      seed : random seed.\n",
    "      target_w : final width of input images.\n",
    "      target_h : final height of input images.\n",
    "    \n",
    "    Returns:\n",
    "        train_generator (DataFrameIterator): iterator over training set\n",
    "    \"\"\"        \n",
    "    print(\"getting train generator...\") \n",
    "   \n",
    "    image_generator = ImageDataGenerator(\n",
    "        samplewise_center=True,\n",
    "        samplewise_std_normalization= True)\n",
    "    \n",
    "    generator = image_generator.flow_from_dataframe(\n",
    "            dataframe=df,\n",
    "            directory=image_dir,\n",
    "            x_col=x_col,\n",
    "            y_col=y_cols,\n",
    "            class_mode=\"raw\",\n",
    "            batch_size=batch_size,\n",
    "            shuffle=shuffle,\n",
    "            seed=seed,\n",
    "            target_size=(target_w,target_h))\n",
    "    \n",
    "    return generator"
   ]
  },
  {
   "cell_type": "code",
   "execution_count": 8,
   "metadata": {
    "id": "UtWEAfAnrhMq"
   },
   "outputs": [],
   "source": [
    "def get_test_and_valid_generator(valid_df, test_df, train_df, image_dir, x_col, y_cols, sample_size=100, batch_size=8, seed=1, target_w = 320, target_h = 320):\n",
    "    \"\"\"\n",
    "    Return generator for validation set and test test set using \n",
    "    normalization statistics from training set.\n",
    "\n",
    "    Args:\n",
    "      valid_df : dataframe specifying validation data.\n",
    "      test_df : dataframe specifying test data.\n",
    "      train_df : dataframe specifying training data.\n",
    "      image_dir : directory where image files are held.\n",
    "      x_col : name of column in df that holds filenames.\n",
    "      y_cols : list of strings that hold y labels for images.\n",
    "      sample_size : size of sample to use for normalization statistics.\n",
    "      batch_size : images per batch to be fed into model during training.\n",
    "      seed : random seed.\n",
    "      target_w : final width of input images.\n",
    "      target_h : final height of input images.\n",
    "    \n",
    "    Returns:\n",
    "        test_generator (DataFrameIterator) and valid_generator: iterators over test set and validation set respectively\n",
    "    \"\"\"\n",
    "    print(\"getting train and valid generators...\")\n",
    "   \n",
    "    raw_train_generator = ImageDataGenerator().flow_from_dataframe(\n",
    "        dataframe=train_df, \n",
    "        directory=IMAGE_DIR, \n",
    "        x_col=\"Image\", \n",
    "        y_col=labels, \n",
    "        class_mode=\"raw\", \n",
    "        batch_size=sample_size, \n",
    "        shuffle=True, \n",
    "        target_size=(target_w, target_h))\n",
    "    \n",
    "    \n",
    "    batch = raw_train_generator.next()\n",
    "    data_sample = batch[0]\n",
    "\n",
    "   \n",
    "    image_generator = ImageDataGenerator(\n",
    "        featurewise_center=True,\n",
    "        featurewise_std_normalization= True)\n",
    "    \n",
    "  \n",
    "    image_generator.fit(data_sample)\n",
    "\n",
    "    \n",
    "    \n",
    "    valid_generator = image_generator.flow_from_dataframe(\n",
    "            dataframe=valid_df,\n",
    "            directory=image_dir,\n",
    "            x_col=x_col,\n",
    "            y_col=y_cols,\n",
    "            class_mode=\"raw\",\n",
    "            batch_size=batch_size,\n",
    "            shuffle=False,\n",
    "            seed=seed,\n",
    "            target_size=(target_w,target_h))\n",
    "\n",
    "    test_generator = image_generator.flow_from_dataframe(\n",
    "            dataframe=test_df,\n",
    "            directory=image_dir,\n",
    "            x_col=x_col,\n",
    "            y_col=y_cols,\n",
    "            class_mode=\"raw\",\n",
    "            batch_size=batch_size,\n",
    "            shuffle=False,\n",
    "            seed=seed,\n",
    "            target_size=(target_w,target_h))\n",
    "    return valid_generator, test_generator"
   ]
  },
  {
   "cell_type": "markdown",
   "metadata": {
    "id": "ga4RZN5On5yL"
   },
   "source": [
    "With our generator function ready, let's make one generator for our training data and one each of our test and  validation datasets."
   ]
  },
  {
   "cell_type": "code",
   "execution_count": 9,
   "metadata": {
    "colab": {
     "base_uri": "https://localhost:8080/"
    },
    "id": "rNE3HWRbn5yL",
    "outputId": "601ec976-8055-4615-81bd-27c6ae74c34a",
    "scrolled": true
   },
   "outputs": [
    {
     "name": "stdout",
     "output_type": "stream",
     "text": [
      "getting train generator...\n",
      "Found 1000 validated image filenames.\n",
      "getting train and valid generators...\n",
      "Found 1000 validated image filenames.\n",
      "Found 1 validated image filenames.\n",
      "Found 420 validated image filenames.\n"
     ]
    },
    {
     "name": "stderr",
     "output_type": "stream",
     "text": [
      "/home/omkar/anaconda3/lib/python3.7/site-packages/keras_preprocessing/image/dataframe_iterator.py:282: UserWarning: Found 108 invalid image filename(s) in x_col=\"Image\". These filename(s) will be ignored.\n",
      "  .format(n_invalid, x_col)\n"
     ]
    }
   ],
   "source": [
    "IMAGE_DIR = \"nih/images-small/\"\n",
    "train_generator = get_train_generator(train_df, IMAGE_DIR, \"Image\", labels)\n",
    "valid_generator, test_generator= get_test_and_valid_generator(valid_df, test_df, train_df, IMAGE_DIR, \"Image\", labels)"
   ]
  },
  {
   "cell_type": "markdown",
   "metadata": {
    "id": "pYtXacDgn5yN"
   },
   "source": [
    "Let's peek into what the generator gives our model during training and validation. We can do this by calling the `__get_item__(index)` function:"
   ]
  },
  {
   "cell_type": "code",
   "execution_count": 80,
   "metadata": {
    "colab": {
     "base_uri": "https://localhost:8080/",
     "height": 286
    },
    "id": "Jh77vpN-n5yO",
    "outputId": "db03b43c-300b-437f-b5c2-305d786b5382"
   },
   "outputs": [
    {
     "name": "stderr",
     "output_type": "stream",
     "text": [
      "Clipping input data to the valid range for imshow with RGB data ([0..1] for floats or [0..255] for integers).\n"
     ]
    },
    {
     "data": {
      "image/png": "[encoded data removed]",
      "text/plain": [
       "<Figure size 432x288 with 1 Axes>"
      ]
     },
     "metadata": {
      "needs_background": "light",
      "tags": []
     },
     "output_type": "display_data"
    }
   ],
   "source": [
    "x, y = train_generator.__getitem__(0)\n",
    "plt.imshow(x[0]);"
   ]
  },
  {
   "cell_type": "code",
   "execution_count": 10,
   "metadata": {
    "colab": {
     "base_uri": "https://localhost:8080/",
     "height": 365
    },
    "id": "-OvyPe5en5yR",
    "outputId": "4500659d-08de-4bac-afeb-963fb534063c"
   },
   "outputs": [
    {
     "data": {
      "image/png": "[encoded data removed]",
      "text/plain": [
       "<Figure size 432x288 with 1 Axes>"
      ]
     },
     "metadata": {
      "needs_background": "light"
     },
     "output_type": "display_data"
    }
   ],
   "source": [
    "plt.xticks(rotation=90)\n",
    "plt.bar(x=labels, height=np.mean(train_generator.labels, axis=0),color=['red'])\n",
    "plt.title(\"Frequency of Each Class\")\n",
    "plt.show() "
   ]
  },
  {
   "cell_type": "code",
   "execution_count": 12,
   "metadata": {
    "id": "TpDGeY2cChYD"
   },
   "outputs": [],
   "source": [
    "\n",
    "def compute_class_freqs(labels):\n",
    "    \"\"\"\n",
    "    Compute positive and negative frequences for each class.\n",
    "\n",
    "    Args:\n",
    "        labels : matrix of labels, size (num_examples, num_classes)\n",
    "    Returns:\n",
    "        positive_frequencies : array of positive frequences for each\n",
    "                                         class, size (num_classes)\n",
    "        negative_frequencies : array of negative frequences for each\n",
    "                                         class, size (num_classes)\"\"\"\n",
    "    \n",
    "    N = labels.shape[0]\n",
    "    \n",
    "    positive_frequencies = np.sum(labels, axis=0) / N\n",
    "    negative_frequencies = 1 - positive_frequencies\n",
    "\n",
    "    \n",
    "    return positive_frequencies, negative_frequencies"
   ]
  },
  {
   "cell_type": "markdown",
   "metadata": {
    "id": "Iye-sQoOFG37"
   },
   "source": [
    "Now we'll compute frequencies for our training data."
   ]
  },
  {
   "cell_type": "code",
   "execution_count": 13,
   "metadata": {
    "id": "LoxM5jQ0E30D"
   },
   "outputs": [
    {
     "data": {
      "text/plain": [
       "array([0.02 , 0.013, 0.128, 0.002, 0.175, 0.045, 0.054, 0.106, 0.038,\n",
       "       0.021, 0.01 , 0.014, 0.016, 0.033])"
      ]
     },
     "execution_count": 13,
     "metadata": {},
     "output_type": "execute_result"
    }
   ],
   "source": [
    "freq_pos, freq_neg = compute_class_freqs(train_generator.labels)\n",
    "freq_pos"
   ]
  },
  {
   "cell_type": "markdown",
   "metadata": {
    "id": "gsJIDPTZn5yW"
   },
   "source": [
    "Let's visualize these two contribution ratios next to each other for each of the pathologies:"
   ]
  },
  {
   "cell_type": "code",
   "execution_count": 18,
   "metadata": {
    "colab": {
     "base_uri": "https://localhost:8080/",
     "height": 363
    },
    "id": "IqnNCu4In5yW",
    "outputId": "586cedec-0d1b-49c0-a85f-384cedb3b9a6",
    "scrolled": true
   },
   "outputs": [
    {
     "data": {
      "image/png": "[encoded data removed]",
      "text/plain": [
       "<Figure size 432x288 with 1 Axes>"
      ]
     },
     "metadata": {
      "needs_background": "light"
     },
     "output_type": "display_data"
    }
   ],
   "source": [
    "data = pd.DataFrame({\"Class\": labels, \"Label\": \"Positive\", \"Value\": freq_pos})\n",
    "data = data.append([{\"Class\": labels[l], \"Label\": \"Negative\", \"Value\": v} for l,v in enumerate(freq_neg)], ignore_index=True)\n",
    "plt.xticks(rotation=90)\n",
    "f = sns.barplot(x=\"Class\", y=\"Value\", hue=\"Label\" ,data=data,palette = 'magma')"
   ]
  },
  {
   "cell_type": "code",
   "execution_count": 20,
   "metadata": {
    "id": "zs3_Rgwwn5yZ"
   },
   "outputs": [],
   "source": [
    "pos_weights = freq_neg\n",
    "neg_weights = freq_pos\n",
    "pos_contribution = freq_pos * pos_weights \n",
    "neg_contribution = freq_neg * neg_weights"
   ]
  },
  {
   "cell_type": "markdown",
   "metadata": {
    "id": "ygNZmdyun5ya"
   },
   "source": [
    "Let's verify this by graphing the two contributions next to each other again:"
   ]
  },
  {
   "cell_type": "code",
   "execution_count": 21,
   "metadata": {
    "colab": {
     "base_uri": "https://localhost:8080/",
     "height": 363
    },
    "id": "LPfSFrxjn5yb",
    "outputId": "6774c809-eb8b-4579-e82b-422b87c1b911",
    "scrolled": true
   },
   "outputs": [
    {
     "data": {
      "image/png": "[encoded data removed]",
      "text/plain": [
       "<Figure size 432x288 with 1 Axes>"
      ]
     },
     "metadata": {
      "needs_background": "light"
     },
     "output_type": "display_data"
    }
   ],
   "source": [
    "data = pd.DataFrame({\"Class\": labels, \"Label\": \"Positive\", \"Value\": pos_contribution})\n",
    "data = data.append([{\"Class\": labels[l], \"Label\": \"Negative\", \"Value\": v} \n",
    "                        for l,v in enumerate(neg_contribution)], ignore_index=True)\n",
    "plt.xticks(rotation=90)\n",
    "sns.barplot(x=\"Class\", y=\"Value\", hue=\"Label\" ,data=data,palette = 'magma');"
   ]
  },
  {
   "cell_type": "code",
   "execution_count": 87,
   "metadata": {
    "id": "pPIBVAasn5yd"
   },
   "outputs": [],
   "source": [
    "def get_weighted_loss(pos_weights, neg_weights, epsilon=1e-7):\n",
    "    \"\"\"\n",
    "    Return weighted loss function given negative weights and positive weights.\n",
    "\n",
    "    Args:\n",
    "      pos_weights : array of positive weights for each class, size (num_classes)\n",
    "      neg_weights : array of negative weights for each class, size (num_classes)\n",
    "    \n",
    "    Returns:\n",
    "      weighted_loss (function): weighted loss function\n",
    "    \"\"\"\n",
    "    def weighted_loss(y_true, y_pred):\n",
    "        \"\"\"\n",
    "        Return weighted loss value. \n",
    "\n",
    "        Args:\n",
    "            y_true : Tensor of true labels, size is (num_examples, num_classes)\n",
    "            y_pred : Tensor of predicted labels, size is (num_examples, num_classes)\n",
    "        Returns:\n",
    "            loss : overall scalar loss summed across all classes\n",
    "        \"\"\"\n",
    "        \n",
    "        loss = 0.0\n",
    "        \n",
    "        \n",
    "        y_true=tf.cast(y_true,dtype='float32')\n",
    "        y_pred=tf.cast(y_pred,dtype='float32')\n",
    "        for i in range(len(pos_weights)):\n",
    "           \n",
    "            loss_pos = -1 * K.mean(pos_weights[i] * y_true[:, i] * K.log(y_pred[:, i] + epsilon))\n",
    "            d=0\n",
    "            loss_neg = -1 * K.mean(neg_weights[i] * (1 - y_true[:, i]) * K.log(1 - y_pred[:, i] + epsilon))\n",
    "            loss += loss_pos + loss_neg\n",
    "        \n",
    "        return loss\n",
    "    \n",
    "        \n",
    "    return weighted_loss"
   ]
  },
  {
   "cell_type": "markdown",
   "metadata": {
    "id": "8cqFNvMhUTTB"
   },
   "source": [
    "Now let's test our function with some simple cases. "
   ]
  },
  {
   "cell_type": "code",
   "execution_count": 89,
   "metadata": {
    "id": "gZlxoCTgn5yi",
    "scrolled": true
   },
   "outputs": [],
   "source": [
    "# create the base pre-trained model\n",
    "base_model = DenseNet121(weights=None, include_top=False)\n",
    "\n",
    "x = base_model.output\n",
    "\n",
    "# add a global spatial average pooling layer\n",
    "x = GlobalAveragePooling2D()(x)\n",
    "\n",
    "# and a logistic layer\n",
    "predictions = Dense(len(labels), activation=\"sigmoid\")(x)\n",
    "\n",
    "model = Model(inputs=base_model.input, outputs=predictions)\n",
    "model.load_weights('/content/brucechou1983_CheXNet_Keras_0.3.0_weights.h5')\n",
    "model.compile(optimizer='adam', loss=get_weighted_loss(pos_weights, neg_weights),metrics=['binary_accuracy'])"
   ]
  },
  {
   "cell_type": "code",
   "execution_count": 90,
   "metadata": {
    "colab": {
     "base_uri": "https://localhost:8080/",
     "height": 1000
    },
    "id": "YdZQTlGvn5ym",
    "outputId": "86325dd0-9e94-4e71-fc48-44b4dabfc84f",
    "scrolled": false
   },
   "outputs": [
    {
     "name": "stderr",
     "output_type": "stream",
     "text": [
      "/usr/local/lib/python3.7/dist-packages/tensorflow/python/keras/engine/training.py:1940: UserWarning: `Model.fit_generator` is deprecated and will be removed in a future version. Please use `Model.fit`, which supports generators.\n",
      "  warnings.warn('`Model.fit_generator` is deprecated and '\n"
     ]
    },
    {
     "name": "stdout",
     "output_type": "stream",
     "text": [
      "Epoch 1/100\n",
      "100/100 [==============================] - ETA: 0s - loss: 2.9339 - binary_accuracy: 0.8948WARNING:tensorflow:Your input ran out of data; interrupting training. Make sure that your dataset or generator can generate at least `steps_per_epoch * epochs` batches (in this case, 25 batches). You may need to use the repeat() function when building your dataset.\n",
      "100/100 [==============================] - 34s 214ms/step - loss: 2.9339 - binary_accuracy: 0.8948 - val_loss: 0.4718 - val_binary_accuracy: 1.0000\n",
      "Epoch 2/100\n",
      "100/100 [==============================] - 20s 196ms/step - loss: 0.8316 - binary_accuracy: 0.7055\n",
      "Epoch 3/100\n",
      "100/100 [==============================] - 20s 195ms/step - loss: 0.6781 - binary_accuracy: 0.6658\n",
      "Epoch 4/100\n",
      "100/100 [==============================] - 20s 194ms/step - loss: 0.5816 - binary_accuracy: 0.7095\n",
      "Epoch 5/100\n",
      "100/100 [==============================] - 20s 195ms/step - loss: 0.5333 - binary_accuracy: 0.7468\n",
      "Epoch 6/100\n",
      "100/100 [==============================] - 20s 195ms/step - loss: 0.4552 - binary_accuracy: 0.7640\n",
      "Epoch 7/100\n",
      "100/100 [==============================] - 20s 195ms/step - loss: 0.4255 - binary_accuracy: 0.7849\n",
      "Epoch 8/100\n",
      "100/100 [==============================] - 19s 194ms/step - loss: 0.4206 - binary_accuracy: 0.7913\n",
      "Epoch 9/100\n",
      "100/100 [==============================] - 19s 194ms/step - loss: 0.3437 - binary_accuracy: 0.8312\n",
      "Epoch 10/100\n",
      "100/100 [==============================] - 20s 196ms/step - loss: 0.3216 - binary_accuracy: 0.8528\n",
      "Epoch 11/100\n",
      "100/100 [==============================] - 20s 195ms/step - loss: 0.3216 - binary_accuracy: 0.8476\n",
      "Epoch 12/100\n",
      "100/100 [==============================] - 20s 195ms/step - loss: 0.2557 - binary_accuracy: 0.8809\n",
      "Epoch 13/100\n",
      "100/100 [==============================] - 20s 195ms/step - loss: 0.1945 - binary_accuracy: 0.9137\n",
      "Epoch 14/100\n",
      "100/100 [==============================] - 20s 195ms/step - loss: 0.2117 - binary_accuracy: 0.8936\n",
      "Epoch 15/100\n",
      "100/100 [==============================] - 20s 195ms/step - loss: 0.1777 - binary_accuracy: 0.9273\n",
      "Epoch 16/100\n",
      "100/100 [==============================] - 20s 194ms/step - loss: 0.1391 - binary_accuracy: 0.9341\n",
      "Epoch 17/100\n",
      "100/100 [==============================] - 19s 194ms/step - loss: 0.1142 - binary_accuracy: 0.9430\n",
      "Epoch 18/100\n",
      "100/100 [==============================] - 20s 195ms/step - loss: 0.1328 - binary_accuracy: 0.9485\n",
      "Epoch 19/100\n",
      "100/100 [==============================] - 20s 196ms/step - loss: 0.1795 - binary_accuracy: 0.9213\n",
      "Epoch 20/100\n",
      "100/100 [==============================] - 20s 194ms/step - loss: 0.1218 - binary_accuracy: 0.9296\n",
      "Epoch 21/100\n",
      "100/100 [==============================] - 20s 195ms/step - loss: 0.1015 - binary_accuracy: 0.9572\n",
      "Epoch 22/100\n",
      "100/100 [==============================] - 19s 194ms/step - loss: 0.0843 - binary_accuracy: 0.9623\n",
      "Epoch 23/100\n",
      "100/100 [==============================] - 20s 194ms/step - loss: 0.0732 - binary_accuracy: 0.9701\n",
      "Epoch 24/100\n",
      "100/100 [==============================] - 20s 194ms/step - loss: 0.0948 - binary_accuracy: 0.9607\n",
      "Epoch 25/100\n",
      "100/100 [==============================] - 20s 195ms/step - loss: 0.0718 - binary_accuracy: 0.9696\n",
      "Epoch 26/100\n",
      "100/100 [==============================] - 19s 194ms/step - loss: 0.0682 - binary_accuracy: 0.9685\n",
      "Epoch 27/100\n",
      "100/100 [==============================] - 19s 194ms/step - loss: 0.0745 - binary_accuracy: 0.9737\n",
      "Epoch 28/100\n",
      "100/100 [==============================] - 20s 195ms/step - loss: 0.1045 - binary_accuracy: 0.9625\n",
      "Epoch 29/100\n",
      "100/100 [==============================] - 20s 194ms/step - loss: 0.0953 - binary_accuracy: 0.9695\n",
      "Epoch 30/100\n",
      "100/100 [==============================] - 19s 193ms/step - loss: 0.0630 - binary_accuracy: 0.9747\n",
      "Epoch 31/100\n",
      "100/100 [==============================] - 20s 194ms/step - loss: 0.0661 - binary_accuracy: 0.9704\n",
      "Epoch 32/100\n",
      "100/100 [==============================] - 20s 194ms/step - loss: 0.0623 - binary_accuracy: 0.9756\n",
      "Epoch 33/100\n",
      "100/100 [==============================] - 20s 195ms/step - loss: 0.0426 - binary_accuracy: 0.9820\n",
      "Epoch 34/100\n",
      "100/100 [==============================] - 20s 195ms/step - loss: 0.0666 - binary_accuracy: 0.9776\n",
      "Epoch 35/100\n",
      "100/100 [==============================] - 20s 194ms/step - loss: 0.0751 - binary_accuracy: 0.9776\n",
      "Epoch 36/100\n",
      "100/100 [==============================] - 20s 196ms/step - loss: 0.0711 - binary_accuracy: 0.9779\n",
      "Epoch 37/100\n",
      "100/100 [==============================] - 20s 195ms/step - loss: 0.1645 - binary_accuracy: 0.9367\n",
      "Epoch 38/100\n",
      "100/100 [==============================] - 19s 194ms/step - loss: 0.1335 - binary_accuracy: 0.9469\n",
      "Epoch 39/100\n",
      "100/100 [==============================] - 20s 194ms/step - loss: 0.1379 - binary_accuracy: 0.9642\n",
      "Epoch 40/100\n",
      "100/100 [==============================] - 20s 195ms/step - loss: 0.0741 - binary_accuracy: 0.9738\n",
      "Epoch 41/100\n",
      "100/100 [==============================] - 20s 195ms/step - loss: 0.0433 - binary_accuracy: 0.9821\n",
      "Epoch 42/100\n",
      "100/100 [==============================] - 20s 195ms/step - loss: 0.0421 - binary_accuracy: 0.9857\n",
      "Epoch 43/100\n",
      "100/100 [==============================] - 19s 193ms/step - loss: 0.0697 - binary_accuracy: 0.9834\n",
      "Epoch 44/100\n",
      "100/100 [==============================] - 19s 194ms/step - loss: 0.0422 - binary_accuracy: 0.9856\n",
      "Epoch 45/100\n",
      "100/100 [==============================] - 20s 195ms/step - loss: 0.0665 - binary_accuracy: 0.9762\n",
      "Epoch 46/100\n",
      "100/100 [==============================] - 20s 195ms/step - loss: 0.0456 - binary_accuracy: 0.9827\n",
      "Epoch 47/100\n",
      "100/100 [==============================] - 20s 196ms/step - loss: 0.0331 - binary_accuracy: 0.9855\n",
      "Epoch 48/100\n",
      "100/100 [==============================] - 20s 194ms/step - loss: 0.0384 - binary_accuracy: 0.9871\n",
      "Epoch 49/100\n",
      "100/100 [==============================] - 20s 195ms/step - loss: 0.0373 - binary_accuracy: 0.9878\n",
      "Epoch 50/100\n",
      "100/100 [==============================] - 20s 195ms/step - loss: 0.0542 - binary_accuracy: 0.9808\n",
      "Epoch 51/100\n",
      "100/100 [==============================] - 20s 195ms/step - loss: 0.0573 - binary_accuracy: 0.9848\n",
      "Epoch 52/100\n",
      "100/100 [==============================] - 20s 195ms/step - loss: 0.0521 - binary_accuracy: 0.9794\n",
      "Epoch 53/100\n",
      "100/100 [==============================] - 20s 194ms/step - loss: 0.0454 - binary_accuracy: 0.9829\n",
      "Epoch 54/100\n",
      "100/100 [==============================] - 20s 194ms/step - loss: 0.0739 - binary_accuracy: 0.9787\n",
      "Epoch 55/100\n",
      "100/100 [==============================] - 20s 196ms/step - loss: 0.0527 - binary_accuracy: 0.9827\n",
      "Epoch 56/100\n",
      "100/100 [==============================] - 20s 195ms/step - loss: 0.1580 - binary_accuracy: 0.9619\n",
      "Epoch 57/100\n",
      "100/100 [==============================] - 20s 194ms/step - loss: 0.1590 - binary_accuracy: 0.9516\n",
      "Epoch 58/100\n",
      "100/100 [==============================] - 19s 194ms/step - loss: 0.1529 - binary_accuracy: 0.9413\n",
      "Epoch 59/100\n",
      "100/100 [==============================] - 20s 194ms/step - loss: 0.1216 - binary_accuracy: 0.9558\n",
      "Epoch 60/100\n",
      "100/100 [==============================] - 20s 194ms/step - loss: 0.0434 - binary_accuracy: 0.9785\n",
      "Epoch 61/100\n",
      "100/100 [==============================] - 19s 194ms/step - loss: 0.0629 - binary_accuracy: 0.9800\n",
      "Epoch 62/100\n",
      "100/100 [==============================] - 19s 194ms/step - loss: 0.0384 - binary_accuracy: 0.9778\n",
      "Epoch 63/100\n",
      "100/100 [==============================] - 20s 195ms/step - loss: 0.0176 - binary_accuracy: 0.9935\n",
      "Epoch 64/100\n",
      "100/100 [==============================] - 20s 195ms/step - loss: 0.0271 - binary_accuracy: 0.9941\n",
      "Epoch 65/100\n",
      "100/100 [==============================] - 20s 194ms/step - loss: 0.0152 - binary_accuracy: 0.9949\n",
      "Epoch 66/100\n",
      "100/100 [==============================] - 20s 195ms/step - loss: 0.0089 - binary_accuracy: 0.9976\n",
      "Epoch 67/100\n",
      "100/100 [==============================] - 20s 194ms/step - loss: 0.0086 - binary_accuracy: 0.9975\n",
      "Epoch 68/100\n",
      "100/100 [==============================] - 20s 194ms/step - loss: 0.0071 - binary_accuracy: 0.9975\n",
      "Epoch 69/100\n",
      "100/100 [==============================] - 20s 195ms/step - loss: 0.0102 - binary_accuracy: 0.9972\n",
      "Epoch 70/100\n",
      "100/100 [==============================] - 19s 193ms/step - loss: 0.0124 - binary_accuracy: 0.9952\n",
      "Epoch 71/100\n",
      "100/100 [==============================] - 20s 194ms/step - loss: 0.0064 - binary_accuracy: 0.9983\n",
      "Epoch 72/100\n",
      "100/100 [==============================] - 20s 194ms/step - loss: 0.0061 - binary_accuracy: 0.9979\n",
      "Epoch 73/100\n",
      "100/100 [==============================] - 19s 194ms/step - loss: 0.0044 - binary_accuracy: 0.9982\n",
      "Epoch 74/100\n",
      "100/100 [==============================] - 19s 193ms/step - loss: 0.0248 - binary_accuracy: 0.9931\n",
      "Epoch 75/100\n",
      "100/100 [==============================] - 19s 194ms/step - loss: 0.0555 - binary_accuracy: 0.9851\n",
      "Epoch 76/100\n",
      "100/100 [==============================] - 20s 194ms/step - loss: 0.0702 - binary_accuracy: 0.9675\n",
      "Epoch 77/100\n",
      "100/100 [==============================] - 20s 196ms/step - loss: 0.1233 - binary_accuracy: 0.9613\n",
      "Epoch 78/100\n",
      "100/100 [==============================] - 20s 195ms/step - loss: 0.1698 - binary_accuracy: 0.9438\n",
      "Epoch 79/100\n",
      "100/100 [==============================] - 20s 195ms/step - loss: 0.1528 - binary_accuracy: 0.9561\n",
      "Epoch 80/100\n",
      "100/100 [==============================] - 20s 194ms/step - loss: 0.1173 - binary_accuracy: 0.9573\n",
      "Epoch 81/100\n",
      "100/100 [==============================] - 20s 195ms/step - loss: 0.0741 - binary_accuracy: 0.9787\n",
      "Epoch 82/100\n",
      "100/100 [==============================] - 20s 195ms/step - loss: 0.0918 - binary_accuracy: 0.9759\n",
      "Epoch 83/100\n",
      "100/100 [==============================] - 20s 194ms/step - loss: 0.0553 - binary_accuracy: 0.9816\n",
      "Epoch 84/100\n",
      "100/100 [==============================] - 19s 194ms/step - loss: 0.0467 - binary_accuracy: 0.9874\n",
      "Epoch 85/100\n",
      "100/100 [==============================] - 20s 195ms/step - loss: 0.0190 - binary_accuracy: 0.9873\n",
      "Epoch 86/100\n",
      "100/100 [==============================] - 19s 194ms/step - loss: 0.0256 - binary_accuracy: 0.9909\n",
      "Epoch 87/100\n",
      "100/100 [==============================] - 20s 195ms/step - loss: 0.0149 - binary_accuracy: 0.9950\n",
      "Epoch 88/100\n",
      "100/100 [==============================] - 20s 194ms/step - loss: 0.0070 - binary_accuracy: 0.9970\n",
      "Epoch 89/100\n",
      "100/100 [==============================] - 20s 195ms/step - loss: 0.0125 - binary_accuracy: 0.9968\n",
      "Epoch 90/100\n",
      "100/100 [==============================] - 20s 196ms/step - loss: 0.0134 - binary_accuracy: 0.9950\n",
      "Epoch 91/100\n",
      "100/100 [==============================] - 20s 195ms/step - loss: 0.0278 - binary_accuracy: 0.9950\n",
      "Epoch 92/100\n",
      "100/100 [==============================] - 20s 195ms/step - loss: 0.0225 - binary_accuracy: 0.9927\n",
      "Epoch 93/100\n",
      "100/100 [==============================] - 20s 195ms/step - loss: 0.0545 - binary_accuracy: 0.9895\n",
      "Epoch 94/100\n",
      "100/100 [==============================] - 20s 195ms/step - loss: 0.0733 - binary_accuracy: 0.9783\n",
      "Epoch 95/100\n",
      "100/100 [==============================] - 20s 195ms/step - loss: 0.0498 - binary_accuracy: 0.9772\n",
      "Epoch 96/100\n",
      "100/100 [==============================] - 20s 194ms/step - loss: 0.0478 - binary_accuracy: 0.9878\n",
      "Epoch 97/100\n",
      "100/100 [==============================] - 20s 194ms/step - loss: 0.0339 - binary_accuracy: 0.9884\n",
      "Epoch 98/100\n",
      "100/100 [==============================] - 19s 194ms/step - loss: 0.0363 - binary_accuracy: 0.9882\n",
      "Epoch 99/100\n",
      "100/100 [==============================] - 20s 195ms/step - loss: 0.0383 - binary_accuracy: 0.9859\n",
      "Epoch 100/100\n",
      "100/100 [==============================] - 20s 195ms/step - loss: 0.0210 - binary_accuracy: 0.9932\n"
     ]
    },
    {
     "data": {
      "image/png": "[encoded data removed]",
      "text/plain": [
       "<Figure size 432x288 with 1 Axes>"
      ]
     },
     "metadata": {
      "needs_background": "light",
      "tags": []
     },
     "output_type": "display_data"
    }
   ],
   "source": [
    "\"\"\"\n",
    "OPTIONAL: uncomment this code to practice training the model.\n",
    "This is optional because you will load pre-trained weights after this.\n",
    "\"\"\"\n",
    "history = model.fit_generator(train_generator, \n",
    "                               validation_data=valid_generator,\n",
    "                               steps_per_epoch=100, \n",
    "                               validation_steps=25,epochs = 100)\n",
    "plt.plot(history.history['loss'])\n",
    "plt.ylabel(\"loss\")\n",
    "plt.xlabel(\"epoch\")\n",
    "plt.title(\"Training Loss Curve\")\n",
    "plt.show()"
   ]
  },
  {
   "cell_type": "code",
   "execution_count": 91,
   "metadata": {
    "colab": {
     "base_uri": "https://localhost:8080/"
    },
    "id": "ESSJOjUhvZdg",
    "outputId": "4b49bbb2-56a4-44d6-a23f-977918eca785"
   },
   "outputs": [
    {
     "name": "stdout",
     "output_type": "stream",
     "text": [
      "INFO:tensorflow:Assets written to: /content/drive/MyDrive/model1/assets\n"
     ]
    }
   ],
   "source": [
    "model.save(path+'model1')"
   ]
  },
  {
   "cell_type": "code",
   "execution_count": 1,
   "metadata": {},
   "outputs": [
    {
     "name": "stdout",
     "output_type": "stream",
     "text": [
      " 00000013_005.png\t   index.jpeg\t\t\t static\r\n",
      " 00000334_005.png\t   logs\t\t\t\t templates\r\n",
      " 00029855_001.png\t   model\t\t\t Untitled.ipynb\r\n",
      " 25-01-2020_flask_csv.py   model1-20210617T040125Z-001\t upload_image\r\n",
      " app.py\t\t\t   new_sample_lables.csv\t util.py\r\n",
      " C1M1_Assignment.ipynb\t   nih\t\t\t\t x_pro.ipynb\r\n",
      " chest-example2.png\t  'ppt image'\t\t\t xray1.pdf\r\n",
      " Densenet_model.h5\t   __pycache__\t\t\t xray.pdf\r\n",
      " Inceptionmodel.h5\t   sample\r\n"
     ]
    }
   ],
   "source": [
    "!ls"
   ]
  },
  {
   "cell_type": "code",
   "execution_count": 2,
   "metadata": {},
   "outputs": [],
   "source": [
    "import tensorflow as tf"
   ]
  },
  {
   "cell_type": "code",
   "execution_count": 3,
   "metadata": {},
   "outputs": [],
   "source": [
    "model=tf.keras.models.load_model('model1',compile=False)"
   ]
  },
  {
   "cell_type": "code",
   "execution_count": 4,
   "metadata": {},
   "outputs": [],
   "source": [
    "import cv2"
   ]
  },
  {
   "cell_type": "code",
   "execution_count": 5,
   "metadata": {},
   "outputs": [],
   "source": [
    "img=cv2.imread('00029855_001.png')"
   ]
  },
  {
   "cell_type": "code",
   "execution_count": 6,
   "metadata": {},
   "outputs": [],
   "source": [
    "img=cv2.resize(img,(320,320))"
   ]
  },
  {
   "cell_type": "code",
   "execution_count": 7,
   "metadata": {},
   "outputs": [],
   "source": [
    "img=img.reshape((-1,320,320,3))"
   ]
  },
  {
   "cell_type": "code",
   "execution_count": 8,
   "metadata": {},
   "outputs": [],
   "source": [
    "img=img/255.0"
   ]
  },
  {
   "cell_type": "code",
   "execution_count": 9,
   "metadata": {},
   "outputs": [],
   "source": [
    "p=model.predict(img)"
   ]
  },
  {
   "cell_type": "code",
   "execution_count": 10,
   "metadata": {},
   "outputs": [
    {
     "data": {
      "text/plain": [
       "array([[9.5594078e-02, 5.8493018e-04, 9.4682282e-01, 2.6360750e-03,\n",
       "        6.6948074e-01, 4.4245422e-03, 3.9317556e-06, 9.4228590e-01,\n",
       "        1.0659846e-04, 1.3945264e-01, 9.3336141e-01, 2.1508336e-04,\n",
       "        5.5005580e-02, 2.9510856e-02]], dtype=float32)"
      ]
     },
     "execution_count": 10,
     "metadata": {},
     "output_type": "execute_result"
    }
   ],
   "source": [
    "p"
   ]
  },
  {
   "cell_type": "code",
   "execution_count": 11,
   "metadata": {},
   "outputs": [],
   "source": [
    "import decimal"
   ]
  },
  {
   "cell_type": "code",
   "execution_count": 15,
   "metadata": {},
   "outputs": [],
   "source": [
    "tmp=[decimal.Decimal(str(i)) for i in p[0]]"
   ]
  },
  {
   "cell_type": "code",
   "execution_count": 25,
   "metadata": {},
   "outputs": [],
   "source": [
    "tmp=[float(str(i)) for i in p[0]]"
   ]
  },
  {
   "cell_type": "code",
   "execution_count": 26,
   "metadata": {},
   "outputs": [
    {
     "data": {
      "text/plain": [
       "[0.09559408,\n",
       " 0.0005849302,\n",
       " 0.9468228,\n",
       " 0.002636075,\n",
       " 0.66948074,\n",
       " 0.004424542,\n",
       " 3.9317556e-06,\n",
       " 0.9422859,\n",
       " 0.00010659846,\n",
       " 0.13945264,\n",
       " 0.9333614,\n",
       " 0.00021508336,\n",
       " 0.05500558,\n",
       " 0.029510856]"
      ]
     },
     "execution_count": 26,
     "metadata": {},
     "output_type": "execute_result"
    }
   ],
   "source": [
    "tmp"
   ]
  },
  {
   "cell_type": "code",
   "execution_count": 12,
   "metadata": {},
   "outputs": [
    {
     "name": "stdout",
     "output_type": "stream",
     "text": [
      "0.09559408\n",
      "0.0005849302\n",
      "0.9468228\n",
      "0.002636075\n",
      "0.66948074\n",
      "0.004424542\n",
      "0.0000039317556\n",
      "0.9422859\n",
      "0.00010659846\n",
      "0.13945264\n",
      "0.9333614\n",
      "0.00021508336\n",
      "0.05500558\n",
      "0.029510856\n"
     ]
    }
   ],
   "source": [
    "for i in p[0]:\n",
    "    num=str(i)\n",
    "    tmp = decimal.Decimal(num)\n",
    "    print( tmp)"
   ]
  },
  {
   "cell_type": "code",
   "execution_count": 27,
   "metadata": {},
   "outputs": [],
   "source": [
    "labels = ['Cardiomegaly', \n",
    "          'Emphysema', \n",
    "          'Effusion', \n",
    "          'Hernia', \n",
    "          'Infiltration', \n",
    "          'Mass', \n",
    "          'Nodule', \n",
    "          'Atelectasis',\n",
    "          'Pneumothorax',\n",
    "          'Pleural_Thickening', \n",
    "          'Pneumonia', \n",
    "          'Fibrosis', \n",
    "          'Edema', \n",
    "          'Consolidation']"
   ]
  },
  {
   "cell_type": "code",
   "execution_count": 28,
   "metadata": {},
   "outputs": [],
   "source": [
    "l=dict(zip(labels,tmp))"
   ]
  },
  {
   "cell_type": "code",
   "execution_count": 29,
   "metadata": {},
   "outputs": [
    {
     "data": {
      "text/plain": [
       "{'Cardiomegaly': 0.09559408,\n",
       " 'Emphysema': 0.0005849302,\n",
       " 'Effusion': 0.9468228,\n",
       " 'Hernia': 0.002636075,\n",
       " 'Infiltration': 0.66948074,\n",
       " 'Mass': 0.004424542,\n",
       " 'Nodule': 3.9317556e-06,\n",
       " 'Atelectasis': 0.9422859,\n",
       " 'Pneumothorax': 0.00010659846,\n",
       " 'Pleural_Thickening': 0.13945264,\n",
       " 'Pneumonia': 0.9333614,\n",
       " 'Fibrosis': 0.00021508336,\n",
       " 'Edema': 0.05500558,\n",
       " 'Consolidation': 0.029510856}"
      ]
     },
     "execution_count": 29,
     "metadata": {},
     "output_type": "execute_result"
    }
   ],
   "source": [
    "l"
   ]
  },
  {
   "cell_type": "code",
   "execution_count": 95,
   "metadata": {
    "colab": {
     "base_uri": "https://localhost:8080/",
     "height": 621
    },
    "id": "6SLI8FHun5yw",
    "outputId": "22fa270f-3faa-4dd3-eb70-787de9338a18",
    "scrolled": false
   },
   "outputs": [
    {
     "data": {
      "image/png": "[encoded data removed]",
      "text/plain": [
       "<Figure size 720x720 with 1 Axes>"
      ]
     },
     "metadata": {
      "needs_background": "light",
      "tags": []
     },
     "output_type": "display_data"
    }
   ],
   "source": [
    "auc_rocs = util.get_roc_curve(labels, predicted_vals, test_generator)"
   ]
  }
 ],
 "metadata": {
  "accelerator": "GPU",
  "colab": {
   "collapsed_sections": [
    "G5aZAlVbn5yz"
   ],
   "name": "C1M1_Assignment.ipynb",
   "provenance": []
  },
  "coursera": {
   "schema_names": [
    "AI4MC1-1"
   ]
  },
  "kernelspec": {
   "display_name": "Python 3",
   "language": "python",
   "name": "python3"
  },
  "language_info": {
   "codemirror_mode": {
    "name": "ipython",
    "version": 3
   },
   "file_extension": ".py",
   "mimetype": "text/x-python",
   "name": "python",
   "nbconvert_exporter": "python",
   "pygments_lexer": "ipython3",
   "version": "3.7.9"
  }
 },
 "nbformat": 4,
 "nbformat_minor": 1
}
